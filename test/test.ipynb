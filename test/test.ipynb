{
 "metadata": {
  "language_info": {
   "codemirror_mode": {
    "name": "ipython",
    "version": 3
   },
   "file_extension": ".py",
   "mimetype": "text/x-python",
   "name": "python",
   "nbconvert_exporter": "python",
   "pygments_lexer": "ipython3",
   "version": "3.7.5-final"
  },
  "orig_nbformat": 2,
  "kernelspec": {
   "name": "python375jvsc74a57bd047a672656ed77d5cb71041b79b467928d84a071e10f182dd1adb6dc26a371672",
   "display_name": "Python 3.7.5 64-bit ('.pyenv')"
  },
  "metadata": {
   "interpreter": {
    "hash": "47a672656ed77d5cb71041b79b467928d84a071e10f182dd1adb6dc26a371672"
   }
  }
 },
 "nbformat": 4,
 "nbformat_minor": 2,
 "cells": [
  {
   "cell_type": "code",
   "execution_count": 1,
   "metadata": {},
   "outputs": [],
   "source": [
    "project_dir = \"/home/jean/myriad/projects/poc/migration_ccm/src\"\n",
    "sys.path.append(project_dir)\n",
    "from pdf2xml import pdf_to_xml_tree\n",
    "from utils import *\n",
    "from lxml import etree\n",
    "from typing import List\n",
    "import hashlib\n",
    "\n",
    "def get_bbox(node):\n",
    "    return tuple(map(float,node.attrib[\"bbox\"].split(\",\")))"
   ]
  },
  {
   "cell_type": "code",
   "execution_count": 3,
   "metadata": {},
   "outputs": [],
   "source": [
    "root = pdf_to_xml_tree(\"/home/jean/myriad/projects/poc/migration_ccm/data/sample/A511000000109_000001.pdf\")"
   ]
  },
  {
   "cell_type": "code",
   "execution_count": 4,
   "metadata": {},
   "outputs": [
    {
     "output_type": "stream",
     "name": "stdout",
     "text": [
      "BOX 0:  (17.28, 819.648, 438.636, 831.648)\n-*- Demonstration Powered by HP Exstream 03/15/2021, Version 8.0.309 32-bit -*-\n-------------------\nBOX 1:  (323.04, 631.87, 485.06, 661.07)\nMR LUSAMBULU NE VUNDA YVONS\nLES COTES\n73660 LA CHAPELLE\n-------------------\nBOX 2:  (323.04, 585.64, 423.64, 595.64)\nParis, le 15 mars 2021\n-------------------\nBOX 3:  (113.52, 559.24, 211.34, 569.24)\nCher(e)(s) Client(e)(s),\n-------------------\nBOX 4:  (113.52, 498.28, 539.08, 519.8)\nNous vous remercions de la confiance que vous accordez (cid:224) La Banque Postale et vous prions de\ncroire, cher(e)(s) client(e)(s), (cid:224) l’assurance de notre meilleure considØration.\n-------------------\nBOX 5:  (335.52, 462.76, 403.65, 472.76)\nVotre Conseiller\n-------------------\nBOX 6:  (113.52, 49.452, 509.344, 75.252)\n(1) Coßt de connexion selon le fournisseur d(cid:146)accŁs.\n(2) Coßt de connexion et de communication selon le fournisseur d(cid:146)accŁs ou l(cid:146)opØrateur de tØlØphonie mobile.\n(3) Service 0,15 (cid:128) / min + prix d’un appel.\n-------------------\nBOX 7:  (513.12, 45.584, 537.488, 53.584)\nPage 1\n-------------------\nBOX 8:  (113.52, 19.736, 534.184, 44.536)\nLa Banque Postale - SociØtØ Anonyme (cid:224) Directoire et Conseil de Surveillance au capital de 6 585 350 218 euros - SiŁge social et adresse\npostale : 115, rue de SŁvres - 75275 Paris Cedex 06 - RCS Paris 421 100 645 - Code APE 6419Z, intermØdiaire d(cid:146)assurance, immatriculØ (cid:224)\nl(cid:146)ORIAS sous le n(cid:176) 07 023 424.\n-------------------\n"
     ]
    }
   ],
   "source": [
    "pages_num = len(root)\n",
    "for page in root:\n",
    "    # print(page)\n",
    "    # print(page.attrib[\"bbox\"])  # (x0,y0,x1,y1).\n",
    "    # x0: the distance from the left of the page to the left edge of the box.\n",
    "    # y0: the distance from the bottom of the page to the lower edge of the box.\n",
    "    # x1: the distance from the left of the page to the right edge of the box.\n",
    "    # y1: the distance from the bottom of the page to the upper edge of the box.\n",
    "    textboxes = page.findall(\"textbox\")\n",
    "    for i,textbox in enumerate(textboxes):\n",
    "        bbox = get_bbox(textbox)\n",
    "        # textbox_str = \"\\n\".join([\"\".join(textline.itertext()).replace(\"\\n\",\"\")  for textline in textbox])\n",
    "        textbox_str = textbox.text_content()\n",
    "        print(f\"BOX {i}: \",bbox)\n",
    "        print(textbox_str)\n",
    "        print(\"-------------------\")\n"
   ]
  },
  {
   "cell_type": "code",
   "execution_count": null,
   "metadata": {},
   "outputs": [],
   "source": [
    "character_nodes_list = []\n",
    "for page in root:\n",
    "    # print(page)\n",
    "    figures = page.findall(\"figure\")\n",
    "    for fig in figures:\n",
    "        characters = fig.findall(\"text\")\n",
    "        character_nodes_list += [(get_bbox(ch),ch.text) for ch in characters]\n",
    "        print(character_nodes_list)"
   ]
  },
  {
   "cell_type": "code",
   "execution_count": 3,
   "metadata": {
    "tags": []
   },
   "outputs": [],
   "source": [
    "character_nodes_list = []\n",
    "for page in root:\n",
    "    # print(page)\n",
    "    characters = page.findall(\".//text\")\n",
    "    # for ch in characters:\n",
    "        # print(ch.text,ch.attrib[\"bbox\"])\n",
    "    # print(len(characters))\n",
    "    character_nodes_list += [(get_bbox(ch),ch.text) for ch in characters if \"bbox\" in  ch.attrib]"
   ]
  },
  {
   "cell_type": "code",
   "execution_count": 4,
   "metadata": {},
   "outputs": [
    {
     "output_type": "execute_result",
     "data": {
      "text/plain": [
       "[[[(17.28, 819.648, 438.636, 831.648),\n",
       "   '-*- Demonstration Powered by HP Exstream 03/15/2021, Version 8.0.309 32-bit -*-']],\n",
       " [[(113.52, 702.012, 244.182, 711.012), 'Pour joindre La Banque Postale :']],\n",
       " [[(113.52, 691.212, 204.342, 700.212), 'Votre bureau de Poste,']],\n",
       " [[(113.52, 680.412, 200.022, 689.412), 'Vos services en ligne,']],\n",
       " [[(113.52, 669.612, 230.982, 678.612), 'muni de votre identifiant, par :']],\n",
       " [[(113.52, 658.064, 244.011, 668.396),\n",
       "   '- Internet www.labanquepostale.fr(1)']],\n",
       " [[(323.04, 651.07, 485.06, 661.07), 'MR LUSAMBULU NE VUNDA YVONS']],\n",
       " [[(113.52, 646.784, 263.211, 657.116),\n",
       "   '- Internet mobile labanquepostale.mobi(2)']],\n",
       " [[(323.04, 641.47, 377.06, 651.47), 'LES COTES']],\n",
       " [[(113.52, 635.264, 197.211, 645.596), '- TØlØphone au 3639(3)']],\n",
       " [[(323.04, 631.87, 425.06, 641.87), '73660 LA CHAPELLE']],\n",
       " [[(323.04, 585.64, 423.64, 595.64), 'Paris, le 15 mars 2021']],\n",
       " [[(113.52, 559.24, 211.34, 569.24), 'Cher(e)(s) Client(e)(s),']],\n",
       " [[(113.52, 509.8, 539.08, 519.8),\n",
       "   'Nous vous remercions de la confiance que vous accordez (cid:224) La Banque Postale et vous prions de']],\n",
       " [[(113.52, 498.28, 436.7, 508.28),\n",
       "   'croire, cher(e)(s) client(e)(s), (cid:224) l’assurance de notre meilleure considØration.']],\n",
       " [[(335.52, 462.76, 403.65, 472.76), 'Votre Conseiller']],\n",
       " [[(113.52, 66.252, 301.984, 75.252),\n",
       "   '(1)Coßt de connexion selon le fournisseur d(cid:146)accŁs.']],\n",
       " [[(113.52, 57.852, 509.344, 66.852),\n",
       "   '(2)Coßt de connexion et de communication selon le fournisseur d(cid:146)accŁs ou l(cid:146)opØrateur de tØlØphonie mobile.']],\n",
       " [[(113.52, 49.452, 264.784, 58.452),\n",
       "   '(3)Service 0,15 (cid:128) / min + prix d’un appel.']],\n",
       " [[(513.12, 45.584, 537.488, 53.584), 'Page 1']],\n",
       " [[(113.52, 36.536, 528.72, 44.536),\n",
       "   'La Banque Postale - SociØtØ Anonyme (cid:224) Directoire et Conseil de Surveillance au capital de 6 585 350 218 euros - SiŁge social et adresse']],\n",
       " [[(113.52, 28.136, 534.184, 36.136),\n",
       "   'postale : 115, rue de SŁvres - 75275 Paris Cedex 06 - RCS Paris 421 100 645 -Code APE 6419Z, intermØdiaire d(cid:146)assurance, immatriculØ (cid:224)']],\n",
       " [[(113.52, 19.736, 208.456, 27.736),\n",
       "   'l(cid:146)ORIAS sous le n(cid:176) 07 023 424.']]]"
      ]
     },
     "metadata": {},
     "execution_count": 4
    }
   ],
   "source": [
    "split_by_lines(character_nodes_list)"
   ]
  },
  {
   "cell_type": "code",
   "execution_count": 12,
   "metadata": {},
   "outputs": [
    {
     "output_type": "stream",
     "name": "stdout",
     "text": [
      "The byte equivalent of hash is : 64\n"
     ]
    }
   ],
   "source": [
    "result = hashlib.sha256(b'GeeksforGeekss')\n",
    "  \n",
    "# printing the equivalent byte value.\n",
    "print(\"The byte equivalent of hash is : \", end =\"\")\n",
    "print(len(result.hexdigest()))"
   ]
  },
  {
   "cell_type": "code",
   "execution_count": null,
   "metadata": {},
   "outputs": [],
   "source": []
  }
 ]
}