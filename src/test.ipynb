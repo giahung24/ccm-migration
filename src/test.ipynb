{
 "metadata": {
  "language_info": {
   "codemirror_mode": {
    "name": "ipython",
    "version": 3
   },
   "file_extension": ".py",
   "mimetype": "text/x-python",
   "name": "python",
   "nbconvert_exporter": "python",
   "pygments_lexer": "ipython3",
   "version": "3.7.5-final"
  },
  "orig_nbformat": 2,
  "kernelspec": {
   "name": "python3",
   "display_name": "Python 3.7.5 64-bit",
   "metadata": {
    "interpreter": {
     "hash": "0e43396694009b028e6cd4c209dcbe33b98a48c7c7d4687d0c3ae52d1e9d8954"
    }
   }
  }
 },
 "nbformat": 4,
 "nbformat_minor": 2,
 "cells": [
  {
   "cell_type": "code",
   "execution_count": 16,
   "metadata": {},
   "outputs": [],
   "source": [
    "project_dir = \"/home/jean/myriad/projects/poc/migration_ccm/src\"\n",
    "sys.path.append(project_dir)\n",
    "from pdf_extract import pdf_to_xml_tree\n",
    "from lxml import etree"
   ]
  },
  {
   "cell_type": "code",
   "execution_count": 17,
   "metadata": {},
   "outputs": [],
   "source": [
    "root = pdf_to_xml_tree(\"/home/jean/myriad/projects/poc/migration_ccm/data/A511000000109_000001.pdf\")"
   ]
  },
  {
   "cell_type": "code",
   "execution_count": 44,
   "metadata": {},
   "outputs": [
    {
     "output_type": "stream",
     "name": "stdout",
     "text": [
      "-*- Demonstration Powered by HP Exstream 03/15/2021, Version 8.0.309 32-bit -*-\nMR LUSAMBULU NE VUNDA YVONS\nLES COTES\n73660 LA CHAPELLE\nParis, le 15 mars 2021\nCher(e)(s) Client(e)(s),\nNous vous remercions de la confiance que vous accordez (cid:224) La Banque Postale et vous prions de\ncroire, cher(e)(s) client(e)(s), (cid:224) l’assurance de notre meilleure considØration.\nVotre Conseiller\n(1) Coßt de connexion selon le fournisseur d(cid:146)accŁs.\n(2) Coßt de connexion et de communication selon le fournisseur d(cid:146)accŁs ou l(cid:146)opØrateur de tØlØphonie mobile.\n(3) Service 0,15 (cid:128) / min + prix d’un appel.\nLa Banque Postale - SociØtØ Anonyme (cid:224) Directoire et Conseil de Surveillance au capital de 6 585 350 218 euros - SiŁge social et adresse\npostale : 115, rue de SŁvres - 75275 Paris Cedex 06 - RCS Paris 421 100 645 - Code APE 6419Z, intermØdiaire d(cid:146)assurance, immatriculØ (cid:224)\nl(cid:146)ORIAS sous le n(cid:176) 07 023 424.\nPage 1\n"
     ]
    }
   ],
   "source": [
    "pages_num = len(root)\n",
    "for page in root:\n",
    "    # print(page)\n",
    "    textboxes = page.findall(\"textbox\")\n",
    "    for textbox in textboxes:\n",
    "        for textline in textbox:\n",
    "            text = \"\".join(textline.itertext()).replace(\"\\n\",\"\")\n",
    "            print(text)"
   ]
  },
  {
   "cell_type": "code",
   "execution_count": null,
   "metadata": {},
   "outputs": [],
   "source": []
  }
 ]
}